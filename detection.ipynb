{
 "cells": [
  {
   "cell_type": "code",
   "execution_count": 1,
   "metadata": {},
   "outputs": [],
   "source": [
    "import numpy as np\r\n",
    "import pandas as pd\r\n",
    "import matplotlib.pyplot as plt\r\n",
    "import torch\r\n",
    "import torch.nn as nn\r\n",
    "import torch.nn.functional as f\r\n",
    "import torch.optim as optim\r\n",
    "from torch.utils.data import DataLoader, Dataset\r\n",
    "import torchvision\r\n",
    "from torchvision import transforms\r\n",
    "import os\r\n",
    "import csv\r\n",
    "from skimage import io, transform\r\n",
    "from PIL import Image"
   ]
  },
  {
   "cell_type": "code",
   "execution_count": 2,
   "metadata": {},
   "outputs": [],
   "source": [
    "dataset_path = os.path.join(os.curdir, 'dataset')\n",
    "with_mask_ds_path = os.path.join(dataset_path, 'with_mask')\n",
    "without_mask_ds_path = os.path.join(dataset_path, 'without_mask')\n",
    "csv_file = os.path.join(dataset_path, 'face-mask-detection-dataset.csv')"
   ]
  },
  {
   "cell_type": "code",
   "execution_count": 3,
   "metadata": {},
   "outputs": [
    {
     "name": "stdout",
     "output_type": "stream",
     "text": [
      "CSV File Found\n"
     ]
    }
   ],
   "source": [
    "# Make a csv for dataset\n",
    "if os.path.exists(csv_file):\n",
    "    print(\"CSV File Found\")\n",
    "else:\n",
    "    print(\"CSV Not Found\")    \n",
    "    print(\"Creating CSV File\")\n",
    "    with open('face-mask-detection-dataset.csv', mode='w') as f:\n",
    "        col_names = ['image_name', 'label']\n",
    "        writer = csv.DictWriter(f, fieldnames=col_names)\n",
    "        writer.writeheader()\n",
    "        for img in os.listdir(without_mask_ds_path):\n",
    "            writer.writerow({'image_name': img, 'label': 0})\n",
    "        for img in os.listdir(with_mask_ds_path):\n",
    "            writer.writerow({'image_name': img, 'label': 1})\n",
    "        f.close()"
   ]
  },
  {
   "cell_type": "code",
   "execution_count": 4,
   "metadata": {},
   "outputs": [],
   "source": [
    "class MaskDetectionDataset(Dataset):\r\n",
    "    def __init__(self, csv_file, root_dir, transform=None):\r\n",
    "        self.csv_file = pd.read_csv(csv_file)\r\n",
    "        self.root_dir = root_dir\r\n",
    "        self.transform = transform\r\n",
    "    def __len__(self):\r\n",
    "        return len(self.csv_file)\r\n",
    "    def __getitem__(self, idx):\r\n",
    "        if torch.is_tensor(idx):\r\n",
    "            idx = idx.tolist()\r\n",
    "        img_name = self.csv_file.iloc[idx, 0]\r\n",
    "        label = self.csv_file.iloc[idx, 1]\r\n",
    "        if (label==0):\r\n",
    "            img_path = os.path.join(self.root_dir, 'without_mask', img_name)\r\n",
    "            img = io.imread(img_path)\r\n",
    "        else:\r\n",
    "            img_path = os.path.join(self.root_dir, 'with_mask', img_name)\r\n",
    "            img = io.imread(img_path)\r\n",
    "        img = Image.fromarray(img)\r\n",
    "        if self.transform:\r\n",
    "            img = self.transform(img)\r\n",
    "        sample = {\r\n",
    "            'image': img,\r\n",
    "            'label': label\r\n",
    "        }\r\n",
    "        return sample"
   ]
  },
  {
   "cell_type": "code",
   "execution_count": null,
   "metadata": {},
   "outputs": [],
   "source": []
  },
  {
   "cell_type": "code",
   "execution_count": 5,
   "metadata": {},
   "outputs": [],
   "source": [
    "\r\n",
    "# Prepare Image by transformation\r\n",
    "\r\n",
    "# TODO: More Augmentation to be done, specially randomization\r\n",
    "augmentation_transform = transforms.Compose({\r\n",
    "    transforms.RandomResizedCrop(size=320, scale=(0.8, 1.0)),\r\n",
    "    transforms.RandomRotation(degrees=15),\r\n",
    "    transforms.ColorJitter(),\r\n",
    "    transforms.RandomHorizontalFlip(),\r\n",
    "    # transforms.CenterCrop(size=224),  # Image net standards\r\n",
    "    transforms.ToTensor(),\r\n",
    "    # transforms.Normalize([0.485, 0.456, 0.406], [0.229, 0.224, 0.225])\r\n",
    "})\r\n",
    "\r\n",
    "dataset = MaskDetectionDataset(csv_file='./dataset/face-mask-detection-dataset.csv', root_dir=dataset_path, transform=augmentation_transform)"
   ]
  },
  {
   "cell_type": "code",
   "execution_count": 6,
   "metadata": {},
   "outputs": [
    {
     "name": "stdout",
     "output_type": "stream",
     "text": [
      "820\n"
     ]
    }
   ],
   "source": [
    "print(len(dataset))"
   ]
  },
  {
   "cell_type": "code",
   "execution_count": 7,
   "metadata": {
    "tags": []
   },
   "outputs": [],
   "source": [
    "batch_size = 32\r\n",
    "\r\n",
    "# Splitting dataset\r\n",
    "train_set, test_set = torch.utils.data.random_split(dataset, [750, 70])\r\n",
    "train_loader = DataLoader(train_set, batch_size=batch_size, shuffle=True)\r\n",
    "test_loader = DataLoader(test_set, batch_size=batch_size, shuffle=True)"
   ]
  },
  {
   "cell_type": "code",
   "execution_count": 8,
   "metadata": {
    "tags": [
     "outputPrepend"
    ]
   },
   "outputs": [
    {
     "name": "stdout",
     "output_type": "stream",
     "text": [
      "0\n",
      "torch.Size([32, 3, 320, 320])\n",
      "torch.Size([32])\n"
     ]
    }
   ],
   "source": [
    "for batch_idx, sample in enumerate(train_loader):\r\n",
    "    print(batch_idx)\r\n",
    "    print(sample['image'].shape)\r\n",
    "    print(sample['label'].shape)\r\n",
    "    break"
   ]
  },
  {
   "cell_type": "code",
   "execution_count": 9,
   "metadata": {},
   "outputs": [],
   "source": [
    "# Transfer Learning from MobileNetV2\r\n",
    "model = torchvision.models.mobilenet_v2(pretrained=True)\r\n",
    "# print(model)"
   ]
  },
  {
   "cell_type": "code",
   "execution_count": 10,
   "metadata": {},
   "outputs": [
    {
     "data": {
      "text/plain": [
       "'\\n# Model Architecture\\n - MobileNetV2\\n - AvgPooling2D\\n - Flatten\\n - Dense (128)\\n - Dropout (p=0.5)\\n - Dense (2)\\n'"
      ]
     },
     "execution_count": 10,
     "metadata": {},
     "output_type": "execute_result"
    }
   ],
   "source": [
    "\r\n",
    "\"\"\"\r\n",
    "# Model Architecture\r\n",
    " - MobileNetV2\r\n",
    " - AvgPooling2D\r\n",
    " - Flatten\r\n",
    " - Dense (128)\r\n",
    " - Dropout (p=0.5)\r\n",
    " - Dense (2)\r\n",
    "\"\"\""
   ]
  },
  {
   "cell_type": "code",
   "execution_count": 11,
   "metadata": {},
   "outputs": [],
   "source": [
    "\r\n",
    "for param in model.parameters():\r\n",
    "    param.requires_grad = False\r\n"
   ]
  },
  {
   "cell_type": "code",
   "execution_count": 12,
   "metadata": {},
   "outputs": [],
   "source": [
    "model.classifier[1] = nn.Sequential(\r\n",
    "    nn.Linear(1280, 256),\r\n",
    "    nn.ReLU(inplace=True),\r\n",
    "    nn.Linear(256, 128),\r\n",
    "    nn.ReLU(inplace=True),\r\n",
    "    nn.Dropout(0.4),\r\n",
    "    nn.Linear(128, 64),\r\n",
    "    nn.ReLU(inplace=True),\r\n",
    "    nn.Linear(64, 32),\r\n",
    "    nn.ReLU(inplace=True),\r\n",
    "    nn.Dropout(0.4),\r\n",
    "    nn.Linear(32, 2),\r\n",
    ")"
   ]
  },
  {
   "cell_type": "code",
   "execution_count": 13,
   "metadata": {},
   "outputs": [
    {
     "name": "stdout",
     "output_type": "stream",
     "text": [
      "371234\n"
     ]
    }
   ],
   "source": [
    "#checking trainable parameters\r\n",
    "print(sum(p.numel() for p in model.parameters() if p.requires_grad))"
   ]
  },
  {
   "cell_type": "code",
   "execution_count": 14,
   "metadata": {},
   "outputs": [
    {
     "name": "stdout",
     "output_type": "stream",
     "text": [
      "Sequential(\n",
      "  (0): Dropout(p=0.2, inplace=False)\n",
      "  (1): Sequential(\n",
      "    (0): Linear(in_features=1280, out_features=256, bias=True)\n",
      "    (1): ReLU(inplace=True)\n",
      "    (2): Linear(in_features=256, out_features=128, bias=True)\n",
      "    (3): ReLU(inplace=True)\n",
      "    (4): Dropout(p=0.4, inplace=False)\n",
      "    (5): Linear(in_features=128, out_features=64, bias=True)\n",
      "    (6): ReLU(inplace=True)\n",
      "    (7): Linear(in_features=64, out_features=32, bias=True)\n",
      "    (8): ReLU(inplace=True)\n",
      "    (9): Dropout(p=0.4, inplace=False)\n",
      "    (10): Linear(in_features=32, out_features=2, bias=True)\n",
      "  )\n",
      ")\n"
     ]
    }
   ],
   "source": [
    "print(model.classifier)"
   ]
  },
  {
   "cell_type": "code",
   "execution_count": 15,
   "metadata": {},
   "outputs": [],
   "source": [
    "lr = 1e-4\r\n",
    "epochs = 20\r\n",
    "\r\n",
    "device = torch.device('cuda' if torch.cuda.is_available() else 'cpu')\r\n",
    "loss_function = nn.CrossEntropyLoss()\r\n",
    "optimizer = optim.Adam(model.parameters(), lr=lr)"
   ]
  },
  {
   "cell_type": "code",
   "execution_count": 16,
   "metadata": {},
   "outputs": [
    {
     "name": "stdout",
     "output_type": "stream",
     "text": [
      "Epoch 1 completed with Accuracy 51.866668701171875\n",
      "Epoch 2 completed with Accuracy 58.13333511352539\n",
      "Epoch 3 completed with Accuracy 87.19999694824219\n",
      "Epoch 4 completed with Accuracy 94.80000305175781\n",
      "Epoch 5 completed with Accuracy 96.53333282470703\n",
      "Epoch 6 completed with Accuracy 97.06666564941406\n",
      "Epoch 7 completed with Accuracy 96.93333435058594\n",
      "Epoch 8 completed with Accuracy 97.73332977294922\n",
      "Epoch 9 completed with Accuracy 97.5999984741211\n",
      "Epoch 10 completed with Accuracy 97.86666870117188\n",
      "Epoch 11 completed with Accuracy 98.39999389648438\n",
      "Epoch 12 completed with Accuracy 98.0\n",
      "Epoch 13 completed with Accuracy 99.06666564941406\n",
      "Epoch 14 completed with Accuracy 98.93333435058594\n",
      "Epoch 15 completed with Accuracy 97.86666870117188\n",
      "Epoch 16 completed with Accuracy 98.0\n",
      "Epoch 17 completed with Accuracy 98.66667175292969\n",
      "Epoch 18 completed with Accuracy 99.06666564941406\n",
      "Epoch 19 completed with Accuracy 99.06666564941406\n",
      "Epoch 20 completed with Accuracy 98.53333282470703\n",
      "\n",
      "Training Completed!\n"
     ]
    }
   ],
   "source": [
    "# Training Data\r\n",
    "\r\n",
    "model.train()\r\n",
    "model.to(device=device)\r\n",
    "for epoch in range(epochs):\r\n",
    "    num_samples = 0\r\n",
    "    num_correct = 0\r\n",
    "    for batch_idx, sample in enumerate(train_loader):\r\n",
    "        data = sample['image'].to(device=device)\r\n",
    "        targets = sample['label'].to(device=device)\r\n",
    "        \r\n",
    "        pred_output = model(data)\r\n",
    "        _, prediction = pred_output.max(1)\r\n",
    "        num_samples += pred_output.size(0)\r\n",
    "        num_correct += (prediction==targets).sum()\r\n",
    "        \r\n",
    "        loss = loss_function(pred_output, targets)\r\n",
    "        optimizer.zero_grad()\r\n",
    "        loss.backward()\r\n",
    "        optimizer.step()\r\n",
    "        \r\n",
    "        if ((batch_idx+1) % 200 == 0):\r\n",
    "            print(f'Batch {batch_idx+1}: Accuracy: {num_correct / num_samples * 100.00}')\r\n",
    "    print(f'Epoch {epoch+1} completed with Accuracy {num_correct / num_samples * 100.00}')\r\n",
    "print()\r\n",
    "print(\"Training Completed!\")\r\n"
   ]
  },
  {
   "cell_type": "code",
   "execution_count": 17,
   "metadata": {},
   "outputs": [],
   "source": [
    "# Model Testing\r\n",
    "def check_accuracy(loader, model):\r\n",
    "    model.eval() # Set model into evaluation mode!\r\n",
    "    num_samples = 0\r\n",
    "    num_correct = 0\r\n",
    "    for batch_idx, sample in enumerate(train_loader):\r\n",
    "        data = sample['image'].to(device=device)\r\n",
    "        targets = sample['label'].to(device=device)\r\n",
    "        \r\n",
    "        pred_output = model(data)\r\n",
    "        _, prediction = pred_output.max(1)\r\n",
    "        num_samples += pred_output.size(0)\r\n",
    "        num_correct += (prediction==targets).sum()\r\n",
    "    \r\n",
    "    print(f'Correctly identified samples: {num_correct}')\r\n",
    "    print(f'Total samples: {num_samples}')\r\n",
    "    print(f'The Validation Accuracy is {num_correct / num_samples * 100.00:.2f}')\r\n",
    "    model.train() # Setting model back to training data"
   ]
  },
  {
   "cell_type": "code",
   "execution_count": 19,
   "metadata": {},
   "outputs": [
    {
     "name": "stdout",
     "output_type": "stream",
     "text": [
      "Checking Accuracy on Training Data...\n",
      "Correctly identified samples: 748\n",
      "Total samples: 750\n",
      "The Validation Accuracy is 99.73\n",
      "\n",
      "Checking Accuracy on Testing Data...\n",
      "Correctly identified samples: 749\n",
      "Total samples: 750\n",
      "The Validation Accuracy is 99.87\n"
     ]
    }
   ],
   "source": [
    "print(\"Checking Accuracy on Training Data...\")\r\n",
    "check_accuracy(train_loader, model)\r\n",
    "print()\r\n",
    "print(\"Checking Accuracy on Testing Data...\")\r\n",
    "check_accuracy(test_loader, model)"
   ]
  },
  {
   "cell_type": "code",
   "execution_count": 20,
   "metadata": {},
   "outputs": [],
   "source": [
    "# Saving model with trained weights\r\n",
    "torch.save(model.state_dict(), 'Trained Models/face_detection_model.pth')"
   ]
  },
  {
   "cell_type": "code",
   "execution_count": 21,
   "metadata": {},
   "outputs": [
    {
     "data": {
      "text/plain": [
       "MobileNetV2(\n",
       "  (features): Sequential(\n",
       "    (0): ConvBNActivation(\n",
       "      (0): Conv2d(3, 32, kernel_size=(3, 3), stride=(2, 2), padding=(1, 1), bias=False)\n",
       "      (1): BatchNorm2d(32, eps=1e-05, momentum=0.1, affine=True, track_running_stats=True)\n",
       "      (2): ReLU6(inplace=True)\n",
       "    )\n",
       "    (1): InvertedResidual(\n",
       "      (conv): Sequential(\n",
       "        (0): ConvBNActivation(\n",
       "          (0): Conv2d(32, 32, kernel_size=(3, 3), stride=(1, 1), padding=(1, 1), groups=32, bias=False)\n",
       "          (1): BatchNorm2d(32, eps=1e-05, momentum=0.1, affine=True, track_running_stats=True)\n",
       "          (2): ReLU6(inplace=True)\n",
       "        )\n",
       "        (1): Conv2d(32, 16, kernel_size=(1, 1), stride=(1, 1), bias=False)\n",
       "        (2): BatchNorm2d(16, eps=1e-05, momentum=0.1, affine=True, track_running_stats=True)\n",
       "      )\n",
       "    )\n",
       "    (2): InvertedResidual(\n",
       "      (conv): Sequential(\n",
       "        (0): ConvBNActivation(\n",
       "          (0): Conv2d(16, 96, kernel_size=(1, 1), stride=(1, 1), bias=False)\n",
       "          (1): BatchNorm2d(96, eps=1e-05, momentum=0.1, affine=True, track_running_stats=True)\n",
       "          (2): ReLU6(inplace=True)\n",
       "        )\n",
       "        (1): ConvBNActivation(\n",
       "          (0): Conv2d(96, 96, kernel_size=(3, 3), stride=(2, 2), padding=(1, 1), groups=96, bias=False)\n",
       "          (1): BatchNorm2d(96, eps=1e-05, momentum=0.1, affine=True, track_running_stats=True)\n",
       "          (2): ReLU6(inplace=True)\n",
       "        )\n",
       "        (2): Conv2d(96, 24, kernel_size=(1, 1), stride=(1, 1), bias=False)\n",
       "        (3): BatchNorm2d(24, eps=1e-05, momentum=0.1, affine=True, track_running_stats=True)\n",
       "      )\n",
       "    )\n",
       "    (3): InvertedResidual(\n",
       "      (conv): Sequential(\n",
       "        (0): ConvBNActivation(\n",
       "          (0): Conv2d(24, 144, kernel_size=(1, 1), stride=(1, 1), bias=False)\n",
       "          (1): BatchNorm2d(144, eps=1e-05, momentum=0.1, affine=True, track_running_stats=True)\n",
       "          (2): ReLU6(inplace=True)\n",
       "        )\n",
       "        (1): ConvBNActivation(\n",
       "          (0): Conv2d(144, 144, kernel_size=(3, 3), stride=(1, 1), padding=(1, 1), groups=144, bias=False)\n",
       "          (1): BatchNorm2d(144, eps=1e-05, momentum=0.1, affine=True, track_running_stats=True)\n",
       "          (2): ReLU6(inplace=True)\n",
       "        )\n",
       "        (2): Conv2d(144, 24, kernel_size=(1, 1), stride=(1, 1), bias=False)\n",
       "        (3): BatchNorm2d(24, eps=1e-05, momentum=0.1, affine=True, track_running_stats=True)\n",
       "      )\n",
       "    )\n",
       "    (4): InvertedResidual(\n",
       "      (conv): Sequential(\n",
       "        (0): ConvBNActivation(\n",
       "          (0): Conv2d(24, 144, kernel_size=(1, 1), stride=(1, 1), bias=False)\n",
       "          (1): BatchNorm2d(144, eps=1e-05, momentum=0.1, affine=True, track_running_stats=True)\n",
       "          (2): ReLU6(inplace=True)\n",
       "        )\n",
       "        (1): ConvBNActivation(\n",
       "          (0): Conv2d(144, 144, kernel_size=(3, 3), stride=(2, 2), padding=(1, 1), groups=144, bias=False)\n",
       "          (1): BatchNorm2d(144, eps=1e-05, momentum=0.1, affine=True, track_running_stats=True)\n",
       "          (2): ReLU6(inplace=True)\n",
       "        )\n",
       "        (2): Conv2d(144, 32, kernel_size=(1, 1), stride=(1, 1), bias=False)\n",
       "        (3): BatchNorm2d(32, eps=1e-05, momentum=0.1, affine=True, track_running_stats=True)\n",
       "      )\n",
       "    )\n",
       "    (5): InvertedResidual(\n",
       "      (conv): Sequential(\n",
       "        (0): ConvBNActivation(\n",
       "          (0): Conv2d(32, 192, kernel_size=(1, 1), stride=(1, 1), bias=False)\n",
       "          (1): BatchNorm2d(192, eps=1e-05, momentum=0.1, affine=True, track_running_stats=True)\n",
       "          (2): ReLU6(inplace=True)\n",
       "        )\n",
       "        (1): ConvBNActivation(\n",
       "          (0): Conv2d(192, 192, kernel_size=(3, 3), stride=(1, 1), padding=(1, 1), groups=192, bias=False)\n",
       "          (1): BatchNorm2d(192, eps=1e-05, momentum=0.1, affine=True, track_running_stats=True)\n",
       "          (2): ReLU6(inplace=True)\n",
       "        )\n",
       "        (2): Conv2d(192, 32, kernel_size=(1, 1), stride=(1, 1), bias=False)\n",
       "        (3): BatchNorm2d(32, eps=1e-05, momentum=0.1, affine=True, track_running_stats=True)\n",
       "      )\n",
       "    )\n",
       "    (6): InvertedResidual(\n",
       "      (conv): Sequential(\n",
       "        (0): ConvBNActivation(\n",
       "          (0): Conv2d(32, 192, kernel_size=(1, 1), stride=(1, 1), bias=False)\n",
       "          (1): BatchNorm2d(192, eps=1e-05, momentum=0.1, affine=True, track_running_stats=True)\n",
       "          (2): ReLU6(inplace=True)\n",
       "        )\n",
       "        (1): ConvBNActivation(\n",
       "          (0): Conv2d(192, 192, kernel_size=(3, 3), stride=(1, 1), padding=(1, 1), groups=192, bias=False)\n",
       "          (1): BatchNorm2d(192, eps=1e-05, momentum=0.1, affine=True, track_running_stats=True)\n",
       "          (2): ReLU6(inplace=True)\n",
       "        )\n",
       "        (2): Conv2d(192, 32, kernel_size=(1, 1), stride=(1, 1), bias=False)\n",
       "        (3): BatchNorm2d(32, eps=1e-05, momentum=0.1, affine=True, track_running_stats=True)\n",
       "      )\n",
       "    )\n",
       "    (7): InvertedResidual(\n",
       "      (conv): Sequential(\n",
       "        (0): ConvBNActivation(\n",
       "          (0): Conv2d(32, 192, kernel_size=(1, 1), stride=(1, 1), bias=False)\n",
       "          (1): BatchNorm2d(192, eps=1e-05, momentum=0.1, affine=True, track_running_stats=True)\n",
       "          (2): ReLU6(inplace=True)\n",
       "        )\n",
       "        (1): ConvBNActivation(\n",
       "          (0): Conv2d(192, 192, kernel_size=(3, 3), stride=(2, 2), padding=(1, 1), groups=192, bias=False)\n",
       "          (1): BatchNorm2d(192, eps=1e-05, momentum=0.1, affine=True, track_running_stats=True)\n",
       "          (2): ReLU6(inplace=True)\n",
       "        )\n",
       "        (2): Conv2d(192, 64, kernel_size=(1, 1), stride=(1, 1), bias=False)\n",
       "        (3): BatchNorm2d(64, eps=1e-05, momentum=0.1, affine=True, track_running_stats=True)\n",
       "      )\n",
       "    )\n",
       "    (8): InvertedResidual(\n",
       "      (conv): Sequential(\n",
       "        (0): ConvBNActivation(\n",
       "          (0): Conv2d(64, 384, kernel_size=(1, 1), stride=(1, 1), bias=False)\n",
       "          (1): BatchNorm2d(384, eps=1e-05, momentum=0.1, affine=True, track_running_stats=True)\n",
       "          (2): ReLU6(inplace=True)\n",
       "        )\n",
       "        (1): ConvBNActivation(\n",
       "          (0): Conv2d(384, 384, kernel_size=(3, 3), stride=(1, 1), padding=(1, 1), groups=384, bias=False)\n",
       "          (1): BatchNorm2d(384, eps=1e-05, momentum=0.1, affine=True, track_running_stats=True)\n",
       "          (2): ReLU6(inplace=True)\n",
       "        )\n",
       "        (2): Conv2d(384, 64, kernel_size=(1, 1), stride=(1, 1), bias=False)\n",
       "        (3): BatchNorm2d(64, eps=1e-05, momentum=0.1, affine=True, track_running_stats=True)\n",
       "      )\n",
       "    )\n",
       "    (9): InvertedResidual(\n",
       "      (conv): Sequential(\n",
       "        (0): ConvBNActivation(\n",
       "          (0): Conv2d(64, 384, kernel_size=(1, 1), stride=(1, 1), bias=False)\n",
       "          (1): BatchNorm2d(384, eps=1e-05, momentum=0.1, affine=True, track_running_stats=True)\n",
       "          (2): ReLU6(inplace=True)\n",
       "        )\n",
       "        (1): ConvBNActivation(\n",
       "          (0): Conv2d(384, 384, kernel_size=(3, 3), stride=(1, 1), padding=(1, 1), groups=384, bias=False)\n",
       "          (1): BatchNorm2d(384, eps=1e-05, momentum=0.1, affine=True, track_running_stats=True)\n",
       "          (2): ReLU6(inplace=True)\n",
       "        )\n",
       "        (2): Conv2d(384, 64, kernel_size=(1, 1), stride=(1, 1), bias=False)\n",
       "        (3): BatchNorm2d(64, eps=1e-05, momentum=0.1, affine=True, track_running_stats=True)\n",
       "      )\n",
       "    )\n",
       "    (10): InvertedResidual(\n",
       "      (conv): Sequential(\n",
       "        (0): ConvBNActivation(\n",
       "          (0): Conv2d(64, 384, kernel_size=(1, 1), stride=(1, 1), bias=False)\n",
       "          (1): BatchNorm2d(384, eps=1e-05, momentum=0.1, affine=True, track_running_stats=True)\n",
       "          (2): ReLU6(inplace=True)\n",
       "        )\n",
       "        (1): ConvBNActivation(\n",
       "          (0): Conv2d(384, 384, kernel_size=(3, 3), stride=(1, 1), padding=(1, 1), groups=384, bias=False)\n",
       "          (1): BatchNorm2d(384, eps=1e-05, momentum=0.1, affine=True, track_running_stats=True)\n",
       "          (2): ReLU6(inplace=True)\n",
       "        )\n",
       "        (2): Conv2d(384, 64, kernel_size=(1, 1), stride=(1, 1), bias=False)\n",
       "        (3): BatchNorm2d(64, eps=1e-05, momentum=0.1, affine=True, track_running_stats=True)\n",
       "      )\n",
       "    )\n",
       "    (11): InvertedResidual(\n",
       "      (conv): Sequential(\n",
       "        (0): ConvBNActivation(\n",
       "          (0): Conv2d(64, 384, kernel_size=(1, 1), stride=(1, 1), bias=False)\n",
       "          (1): BatchNorm2d(384, eps=1e-05, momentum=0.1, affine=True, track_running_stats=True)\n",
       "          (2): ReLU6(inplace=True)\n",
       "        )\n",
       "        (1): ConvBNActivation(\n",
       "          (0): Conv2d(384, 384, kernel_size=(3, 3), stride=(1, 1), padding=(1, 1), groups=384, bias=False)\n",
       "          (1): BatchNorm2d(384, eps=1e-05, momentum=0.1, affine=True, track_running_stats=True)\n",
       "          (2): ReLU6(inplace=True)\n",
       "        )\n",
       "        (2): Conv2d(384, 96, kernel_size=(1, 1), stride=(1, 1), bias=False)\n",
       "        (3): BatchNorm2d(96, eps=1e-05, momentum=0.1, affine=True, track_running_stats=True)\n",
       "      )\n",
       "    )\n",
       "    (12): InvertedResidual(\n",
       "      (conv): Sequential(\n",
       "        (0): ConvBNActivation(\n",
       "          (0): Conv2d(96, 576, kernel_size=(1, 1), stride=(1, 1), bias=False)\n",
       "          (1): BatchNorm2d(576, eps=1e-05, momentum=0.1, affine=True, track_running_stats=True)\n",
       "          (2): ReLU6(inplace=True)\n",
       "        )\n",
       "        (1): ConvBNActivation(\n",
       "          (0): Conv2d(576, 576, kernel_size=(3, 3), stride=(1, 1), padding=(1, 1), groups=576, bias=False)\n",
       "          (1): BatchNorm2d(576, eps=1e-05, momentum=0.1, affine=True, track_running_stats=True)\n",
       "          (2): ReLU6(inplace=True)\n",
       "        )\n",
       "        (2): Conv2d(576, 96, kernel_size=(1, 1), stride=(1, 1), bias=False)\n",
       "        (3): BatchNorm2d(96, eps=1e-05, momentum=0.1, affine=True, track_running_stats=True)\n",
       "      )\n",
       "    )\n",
       "    (13): InvertedResidual(\n",
       "      (conv): Sequential(\n",
       "        (0): ConvBNActivation(\n",
       "          (0): Conv2d(96, 576, kernel_size=(1, 1), stride=(1, 1), bias=False)\n",
       "          (1): BatchNorm2d(576, eps=1e-05, momentum=0.1, affine=True, track_running_stats=True)\n",
       "          (2): ReLU6(inplace=True)\n",
       "        )\n",
       "        (1): ConvBNActivation(\n",
       "          (0): Conv2d(576, 576, kernel_size=(3, 3), stride=(1, 1), padding=(1, 1), groups=576, bias=False)\n",
       "          (1): BatchNorm2d(576, eps=1e-05, momentum=0.1, affine=True, track_running_stats=True)\n",
       "          (2): ReLU6(inplace=True)\n",
       "        )\n",
       "        (2): Conv2d(576, 96, kernel_size=(1, 1), stride=(1, 1), bias=False)\n",
       "        (3): BatchNorm2d(96, eps=1e-05, momentum=0.1, affine=True, track_running_stats=True)\n",
       "      )\n",
       "    )\n",
       "    (14): InvertedResidual(\n",
       "      (conv): Sequential(\n",
       "        (0): ConvBNActivation(\n",
       "          (0): Conv2d(96, 576, kernel_size=(1, 1), stride=(1, 1), bias=False)\n",
       "          (1): BatchNorm2d(576, eps=1e-05, momentum=0.1, affine=True, track_running_stats=True)\n",
       "          (2): ReLU6(inplace=True)\n",
       "        )\n",
       "        (1): ConvBNActivation(\n",
       "          (0): Conv2d(576, 576, kernel_size=(3, 3), stride=(2, 2), padding=(1, 1), groups=576, bias=False)\n",
       "          (1): BatchNorm2d(576, eps=1e-05, momentum=0.1, affine=True, track_running_stats=True)\n",
       "          (2): ReLU6(inplace=True)\n",
       "        )\n",
       "        (2): Conv2d(576, 160, kernel_size=(1, 1), stride=(1, 1), bias=False)\n",
       "        (3): BatchNorm2d(160, eps=1e-05, momentum=0.1, affine=True, track_running_stats=True)\n",
       "      )\n",
       "    )\n",
       "    (15): InvertedResidual(\n",
       "      (conv): Sequential(\n",
       "        (0): ConvBNActivation(\n",
       "          (0): Conv2d(160, 960, kernel_size=(1, 1), stride=(1, 1), bias=False)\n",
       "          (1): BatchNorm2d(960, eps=1e-05, momentum=0.1, affine=True, track_running_stats=True)\n",
       "          (2): ReLU6(inplace=True)\n",
       "        )\n",
       "        (1): ConvBNActivation(\n",
       "          (0): Conv2d(960, 960, kernel_size=(3, 3), stride=(1, 1), padding=(1, 1), groups=960, bias=False)\n",
       "          (1): BatchNorm2d(960, eps=1e-05, momentum=0.1, affine=True, track_running_stats=True)\n",
       "          (2): ReLU6(inplace=True)\n",
       "        )\n",
       "        (2): Conv2d(960, 160, kernel_size=(1, 1), stride=(1, 1), bias=False)\n",
       "        (3): BatchNorm2d(160, eps=1e-05, momentum=0.1, affine=True, track_running_stats=True)\n",
       "      )\n",
       "    )\n",
       "    (16): InvertedResidual(\n",
       "      (conv): Sequential(\n",
       "        (0): ConvBNActivation(\n",
       "          (0): Conv2d(160, 960, kernel_size=(1, 1), stride=(1, 1), bias=False)\n",
       "          (1): BatchNorm2d(960, eps=1e-05, momentum=0.1, affine=True, track_running_stats=True)\n",
       "          (2): ReLU6(inplace=True)\n",
       "        )\n",
       "        (1): ConvBNActivation(\n",
       "          (0): Conv2d(960, 960, kernel_size=(3, 3), stride=(1, 1), padding=(1, 1), groups=960, bias=False)\n",
       "          (1): BatchNorm2d(960, eps=1e-05, momentum=0.1, affine=True, track_running_stats=True)\n",
       "          (2): ReLU6(inplace=True)\n",
       "        )\n",
       "        (2): Conv2d(960, 160, kernel_size=(1, 1), stride=(1, 1), bias=False)\n",
       "        (3): BatchNorm2d(160, eps=1e-05, momentum=0.1, affine=True, track_running_stats=True)\n",
       "      )\n",
       "    )\n",
       "    (17): InvertedResidual(\n",
       "      (conv): Sequential(\n",
       "        (0): ConvBNActivation(\n",
       "          (0): Conv2d(160, 960, kernel_size=(1, 1), stride=(1, 1), bias=False)\n",
       "          (1): BatchNorm2d(960, eps=1e-05, momentum=0.1, affine=True, track_running_stats=True)\n",
       "          (2): ReLU6(inplace=True)\n",
       "        )\n",
       "        (1): ConvBNActivation(\n",
       "          (0): Conv2d(960, 960, kernel_size=(3, 3), stride=(1, 1), padding=(1, 1), groups=960, bias=False)\n",
       "          (1): BatchNorm2d(960, eps=1e-05, momentum=0.1, affine=True, track_running_stats=True)\n",
       "          (2): ReLU6(inplace=True)\n",
       "        )\n",
       "        (2): Conv2d(960, 320, kernel_size=(1, 1), stride=(1, 1), bias=False)\n",
       "        (3): BatchNorm2d(320, eps=1e-05, momentum=0.1, affine=True, track_running_stats=True)\n",
       "      )\n",
       "    )\n",
       "    (18): ConvBNActivation(\n",
       "      (0): Conv2d(320, 1280, kernel_size=(1, 1), stride=(1, 1), bias=False)\n",
       "      (1): BatchNorm2d(1280, eps=1e-05, momentum=0.1, affine=True, track_running_stats=True)\n",
       "      (2): ReLU6(inplace=True)\n",
       "    )\n",
       "  )\n",
       "  (classifier): Sequential(\n",
       "    (0): Dropout(p=0.2, inplace=False)\n",
       "    (1): Sequential(\n",
       "      (0): Linear(in_features=1280, out_features=256, bias=True)\n",
       "      (1): ReLU(inplace=True)\n",
       "      (2): Linear(in_features=256, out_features=128, bias=True)\n",
       "      (3): ReLU(inplace=True)\n",
       "      (4): Dropout(p=0.4, inplace=False)\n",
       "      (5): Linear(in_features=128, out_features=64, bias=True)\n",
       "      (6): ReLU(inplace=True)\n",
       "      (7): Linear(in_features=64, out_features=32, bias=True)\n",
       "      (8): ReLU(inplace=True)\n",
       "      (9): Dropout(p=0.4, inplace=False)\n",
       "      (10): Linear(in_features=32, out_features=2, bias=True)\n",
       "    )\n",
       "  )\n",
       ")"
      ]
     },
     "execution_count": 21,
     "metadata": {},
     "output_type": "execute_result"
    }
   ],
   "source": [
    "trained_model = torchvision.models.mobilenet_v2(pretrained=True)\r\n",
    "trained_model.classifier[1] = nn.Sequential(\r\n",
    "    nn.Linear(1280, 256),\r\n",
    "    nn.ReLU(inplace=True),\r\n",
    "    nn.Linear(256, 128),\r\n",
    "    nn.ReLU(inplace=True),\r\n",
    "    nn.Dropout(0.4),\r\n",
    "    nn.Linear(128, 64),\r\n",
    "    nn.ReLU(inplace=True),\r\n",
    "    nn.Linear(64, 32),\r\n",
    "    nn.ReLU(inplace=True),\r\n",
    "    nn.Dropout(0.4),\r\n",
    "    nn.Linear(32, 2),\r\n",
    ")\r\n",
    "\r\n",
    "trained_model.load_state_dict(torch.load('Trained Models/face_detection_model.pth'))\r\n",
    "trained_model.eval()"
   ]
  },
  {
   "cell_type": "code",
   "execution_count": 22,
   "metadata": {},
   "outputs": [],
   "source": [
    "test_transform_compose = transforms.Compose({\r\n",
    "    transforms.Resize((320,320)),\r\n",
    "    transforms.ToTensor(),\r\n",
    "})"
   ]
  },
  {
   "cell_type": "code",
   "execution_count": 23,
   "metadata": {},
   "outputs": [],
   "source": [
    "def prepare_image_for_testing(img):\r\n",
    "    img = Image.fromarray(img)\r\n",
    "    img = test_transform_compose(img)\r\n",
    "    img = img.unsqueeze_(0)\r\n",
    "    return img"
   ]
  },
  {
   "cell_type": "code",
   "execution_count": 24,
   "metadata": {},
   "outputs": [
    {
     "name": "stdout",
     "output_type": "stream",
     "text": [
      "Label: 0\n",
      "Prediction: 0\n"
     ]
    }
   ],
   "source": [
    "without_mask_image = io.imread(os.path.join('Test Images', 'without_mask.jpg'))\r\n",
    "without_mask_image = prepare_image_for_testing(without_mask_image)\r\n",
    "without_mask_image = without_mask_image.to(device=device)\r\n",
    "trained_model.to(device=device)\r\n",
    "pred_output = trained_model(without_mask_image)\r\n",
    "_, prediction = pred_output.max(1)\r\n",
    "print(\"Label: 0\")\r\n",
    "if (prediction[0]==0):\r\n",
    "    print(\"Prediction: 0\")\r\n",
    "else:\r\n",
    "    print(\"Prediction: 1\")"
   ]
  },
  {
   "cell_type": "code",
   "execution_count": 25,
   "metadata": {},
   "outputs": [
    {
     "name": "stdout",
     "output_type": "stream",
     "text": [
      "Label: 1\n",
      "Prediction: 1\n"
     ]
    }
   ],
   "source": [
    "with_mask_image = io.imread(os.path.join('Test Images', 'with_mask.jpg'))\r\n",
    "with_mask_image = prepare_image_for_testing(with_mask_image)\r\n",
    "with_mask_image = with_mask_image.to(device=device)\r\n",
    "trained_model.to(device=device)\r\n",
    "pred_output = trained_model(with_mask_image)\r\n",
    "_, prediction = pred_output.max(1)\r\n",
    "print(\"Label: 1\")\r\n",
    "if (prediction[0]==0):\r\n",
    "    print(\"Prediction: 0\")\r\n",
    "else:\r\n",
    "    print(\"Prediction: 1\")"
   ]
  }
 ],
 "metadata": {
  "interpreter": {
   "hash": "a1fe01d80329757d9b5c06f57374f0a110ed74617d918d36a87f0af07624d70d"
  },
  "kernelspec": {
   "display_name": "Python 3.8.5 64-bit ('base': conda)",
   "name": "python3"
  },
  "language_info": {
   "codemirror_mode": {
    "name": "ipython",
    "version": 3
   },
   "file_extension": ".py",
   "mimetype": "text/x-python",
   "name": "python",
   "nbconvert_exporter": "python",
   "pygments_lexer": "ipython3",
   "version": "3.8.5"
  },
  "orig_nbformat": 4
 },
 "nbformat": 4,
 "nbformat_minor": 2
}