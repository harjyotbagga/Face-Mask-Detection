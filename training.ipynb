{
 "cells": [
  {
   "cell_type": "code",
   "execution_count": 1,
   "metadata": {},
   "outputs": [],
   "source": [
    "import numpy as np\r\n",
    "import pandas as pd\r\n",
    "import matplotlib.pyplot as plt\r\n",
    "import torch\r\n",
    "import torch.nn as nn\r\n",
    "import torch.nn.functional as f\r\n",
    "import torch.optim as optim\r\n",
    "from torch.utils.data import DataLoader, Dataset\r\n",
    "import torchvision\r\n",
    "from torchvision import transforms\r\n",
    "import os\r\n",
    "import csv\r\n",
    "from skimage import io, transform\r\n",
    "from PIL import Image"
   ]
  },
  {
   "cell_type": "code",
   "execution_count": 2,
   "metadata": {},
   "outputs": [],
   "source": [
    "dataset_path = os.path.join(os.curdir, 'dataset')\r\n",
    "with_mask_ds_path = os.path.join(dataset_path, 'aug', 'with_mask')\r\n",
    "without_mask_ds_path = os.path.join(dataset_path, 'aug', 'without_mask')\r\n",
    "csv_file = os.path.join(dataset_path, 'face-mask-detection-dataset.csv')"
   ]
  },
  {
   "cell_type": "code",
   "execution_count": 3,
   "metadata": {},
   "outputs": [
    {
     "name": "stdout",
     "output_type": "stream",
     "text": [
      "CSV File Found\n"
     ]
    }
   ],
   "source": [
    "# Make a csv for dataset\r\n",
    "if os.path.exists(csv_file):\r\n",
    "    print(\"CSV File Found\")\r\n",
    "else:\r\n",
    "    print(\"CSV Not Found\")    \r\n",
    "    print(\"Creating CSV File\")\r\n",
    "    fields = ['image_name', 'label']\r\n",
    "    rows = []\r\n",
    "    for img in os.listdir(without_mask_ds_path):\r\n",
    "        row = [img, 0]\r\n",
    "        rows.append(row)\r\n",
    "    for img in os.listdir(with_mask_ds_path):\r\n",
    "        row = [img, 1]\r\n",
    "        rows.append(row)\r\n",
    "    with open(csv_file, mode='w') as f:\r\n",
    "        writer = csv.writer(f)\r\n",
    "        writer.writerow(fields)\r\n",
    "        writer.writerows(rows)\r\n",
    "        f.close()\r\n",
    "    print(\"CSV File Created\")"
   ]
  },
  {
   "cell_type": "code",
   "execution_count": 4,
   "metadata": {},
   "outputs": [],
   "source": [
    "class MaskDetectionDataset(Dataset):\r\n",
    "    def __init__(self, csv_file, root_dir, transform=None):\r\n",
    "        self.csv_file = pd.read_csv(csv_file)\r\n",
    "        self.root_dir = root_dir\r\n",
    "        self.transform = transform\r\n",
    "    def __len__(self):\r\n",
    "        return len(self.csv_file)\r\n",
    "    def __getitem__(self, idx):\r\n",
    "        if torch.is_tensor(idx):\r\n",
    "            idx = idx.tolist()\r\n",
    "        img_name = self.csv_file.iloc[idx, 0]\r\n",
    "        label = self.csv_file.iloc[idx, 1]\r\n",
    "        if (label==0):\r\n",
    "            img_path = os.path.join(self.root_dir, 'aug', 'without_mask', img_name)\r\n",
    "            img = io.imread(img_path)\r\n",
    "        else:\r\n",
    "            img_path = os.path.join(self.root_dir, 'aug', 'with_mask', img_name)\r\n",
    "            img = io.imread(img_path)\r\n",
    "        img = Image.fromarray(img)\r\n",
    "        if self.transform:\r\n",
    "            img = self.transform(img)\r\n",
    "        sample = {\r\n",
    "            'image': img,\r\n",
    "            'label': label\r\n",
    "        }\r\n",
    "        return sample"
   ]
  },
  {
   "cell_type": "code",
   "execution_count": 5,
   "metadata": {},
   "outputs": [],
   "source": [
    "augmentation_transform = transforms.Compose([\r\n",
    "    transforms.RandomResizedCrop((320,320)),\r\n",
    "    transforms.RandomHorizontalFlip(),\r\n",
    "    transforms.ColorJitter(brightness=0.6, contrast=0.2, saturation=0.6),\r\n",
    "    transforms.ToTensor(),\r\n",
    "    transforms.Normalize([0.485, 0.456, 0.406], [0.229, 0.224, 0.225])\r\n",
    "])\r\n",
    "\r\n",
    "dataset = MaskDetectionDataset(csv_file='./dataset/face-mask-detection-dataset.csv', root_dir=dataset_path, transform=augmentation_transform)"
   ]
  },
  {
   "cell_type": "code",
   "execution_count": 6,
   "metadata": {},
   "outputs": [
    {
     "name": "stdout",
     "output_type": "stream",
     "text": [
      "5812\n"
     ]
    }
   ],
   "source": [
    "ds_len = len(dataset)\r\n",
    "print(len(dataset))"
   ]
  },
  {
   "cell_type": "code",
   "execution_count": 7,
   "metadata": {
    "tags": []
   },
   "outputs": [],
   "source": [
    "batch_size = 32\r\n",
    "\r\n",
    "# Splitting dataset\r\n",
    "train_set, test_set = torch.utils.data.random_split(dataset, [int(0.8*ds_len), ds_len-int(0.8*ds_len)])\r\n",
    "train_loader = DataLoader(train_set, batch_size=batch_size, shuffle=True)\r\n",
    "test_loader = DataLoader(test_set, batch_size=batch_size, shuffle=True)"
   ]
  },
  {
   "cell_type": "code",
   "execution_count": 8,
   "metadata": {
    "tags": [
     "outputPrepend"
    ]
   },
   "outputs": [
    {
     "name": "stdout",
     "output_type": "stream",
     "text": [
      "0\n",
      "torch.Size([32, 3, 320, 320])\n",
      "torch.Size([32])\n"
     ]
    }
   ],
   "source": [
    "for batch_idx, sample in enumerate(train_loader):\r\n",
    "    print(batch_idx)\r\n",
    "    print(sample['image'].shape)\r\n",
    "    print(sample['label'].shape)\r\n",
    "    break"
   ]
  },
  {
   "cell_type": "code",
   "execution_count": 9,
   "metadata": {},
   "outputs": [],
   "source": [
    "# Transfer Learning from MobileNetV2\r\n",
    "model = torchvision.models.mobilenet_v2(pretrained=True)\r\n",
    "# print(model)"
   ]
  },
  {
   "cell_type": "code",
   "execution_count": 10,
   "metadata": {},
   "outputs": [],
   "source": [
    "\r\n",
    "for param in model.parameters():\r\n",
    "    param.requires_grad = False\r\n"
   ]
  },
  {
   "cell_type": "code",
   "execution_count": 11,
   "metadata": {},
   "outputs": [],
   "source": [
    "model.classifier[1] = nn.Sequential(\r\n",
    "    nn.Linear(1280, 256),\r\n",
    "    nn.ReLU(inplace=True),\r\n",
    "    nn.Linear(256, 128),\r\n",
    "    nn.ReLU(inplace=True),\r\n",
    "    nn.Dropout(0.4),\r\n",
    "    nn.Linear(128, 64),\r\n",
    "    nn.ReLU(inplace=True),\r\n",
    "    nn.Linear(64, 32),\r\n",
    "    nn.ReLU(inplace=True),\r\n",
    "    nn.Dropout(0.4),\r\n",
    "    nn.Linear(32, 2),\r\n",
    ")"
   ]
  },
  {
   "cell_type": "code",
   "execution_count": 12,
   "metadata": {},
   "outputs": [
    {
     "name": "stdout",
     "output_type": "stream",
     "text": [
      "371234\n"
     ]
    }
   ],
   "source": [
    "#checking trainable parameters\r\n",
    "print(sum(p.numel() for p in model.parameters() if p.requires_grad))"
   ]
  },
  {
   "cell_type": "code",
   "execution_count": 13,
   "metadata": {},
   "outputs": [
    {
     "name": "stdout",
     "output_type": "stream",
     "text": [
      "Sequential(\n",
      "  (0): Dropout(p=0.2, inplace=False)\n",
      "  (1): Sequential(\n",
      "    (0): Linear(in_features=1280, out_features=256, bias=True)\n",
      "    (1): ReLU(inplace=True)\n",
      "    (2): Linear(in_features=256, out_features=128, bias=True)\n",
      "    (3): ReLU(inplace=True)\n",
      "    (4): Dropout(p=0.4, inplace=False)\n",
      "    (5): Linear(in_features=128, out_features=64, bias=True)\n",
      "    (6): ReLU(inplace=True)\n",
      "    (7): Linear(in_features=64, out_features=32, bias=True)\n",
      "    (8): ReLU(inplace=True)\n",
      "    (9): Dropout(p=0.4, inplace=False)\n",
      "    (10): Linear(in_features=32, out_features=2, bias=True)\n",
      "  )\n",
      ")\n"
     ]
    }
   ],
   "source": [
    "print(model.classifier)"
   ]
  },
  {
   "cell_type": "code",
   "execution_count": 14,
   "metadata": {},
   "outputs": [],
   "source": [
    "lr = 1e-4\r\n",
    "epochs = 30\r\n",
    "\r\n",
    "device = torch.device('cuda' if torch.cuda.is_available() else 'cpu')\r\n",
    "loss_function = nn.CrossEntropyLoss()\r\n",
    "optimizer = optim.Adam(model.parameters(), lr=lr)"
   ]
  },
  {
   "cell_type": "code",
   "execution_count": 15,
   "metadata": {},
   "outputs": [
    {
     "data": {
      "application/vnd.jupyter.widget-view+json": {
       "model_id": "c8cc5e5e7f174cf49fbe50f165fbac69",
       "version_major": 2,
       "version_minor": 0
      },
      "text/plain": [
       "  0%|          | 0/146 [00:00<?, ?it/s]"
      ]
     },
     "metadata": {},
     "output_type": "display_data"
    },
    {
     "name": "stdout",
     "output_type": "stream",
     "text": [
      "Epoch #1 completed with Accuracy 67.03%\n"
     ]
    },
    {
     "data": {
      "application/vnd.jupyter.widget-view+json": {
       "model_id": "3732650e44284117a99bdb4d2056ca1d",
       "version_major": 2,
       "version_minor": 0
      },
      "text/plain": [
       "  0%|          | 0/146 [00:00<?, ?it/s]"
      ]
     },
     "metadata": {},
     "output_type": "display_data"
    },
    {
     "name": "stdout",
     "output_type": "stream",
     "text": [
      "Epoch #2 completed with Accuracy 86.28%\n"
     ]
    },
    {
     "data": {
      "application/vnd.jupyter.widget-view+json": {
       "model_id": "e16fa8a6e8ff42ce9bf3016e11540210",
       "version_major": 2,
       "version_minor": 0
      },
      "text/plain": [
       "  0%|          | 0/146 [00:00<?, ?it/s]"
      ]
     },
     "metadata": {},
     "output_type": "display_data"
    },
    {
     "name": "stdout",
     "output_type": "stream",
     "text": [
      "Epoch #3 completed with Accuracy 88.10%\n"
     ]
    },
    {
     "data": {
      "application/vnd.jupyter.widget-view+json": {
       "model_id": "75c6cd3e1c644d1297fa60423225de26",
       "version_major": 2,
       "version_minor": 0
      },
      "text/plain": [
       "  0%|          | 0/146 [00:00<?, ?it/s]"
      ]
     },
     "metadata": {},
     "output_type": "display_data"
    },
    {
     "name": "stdout",
     "output_type": "stream",
     "text": [
      "Epoch #4 completed with Accuracy 89.65%\n"
     ]
    },
    {
     "data": {
      "application/vnd.jupyter.widget-view+json": {
       "model_id": "a7334196e36546268ea283a94edcecf1",
       "version_major": 2,
       "version_minor": 0
      },
      "text/plain": [
       "  0%|          | 0/146 [00:00<?, ?it/s]"
      ]
     },
     "metadata": {},
     "output_type": "display_data"
    },
    {
     "name": "stdout",
     "output_type": "stream",
     "text": [
      "Epoch #5 completed with Accuracy 89.55%\n"
     ]
    },
    {
     "data": {
      "application/vnd.jupyter.widget-view+json": {
       "model_id": "a83085e65e1f44ae826d61583fd47031",
       "version_major": 2,
       "version_minor": 0
      },
      "text/plain": [
       "  0%|          | 0/146 [00:00<?, ?it/s]"
      ]
     },
     "metadata": {},
     "output_type": "display_data"
    },
    {
     "name": "stdout",
     "output_type": "stream",
     "text": [
      "Epoch #6 completed with Accuracy 89.22%\n"
     ]
    },
    {
     "data": {
      "application/vnd.jupyter.widget-view+json": {
       "model_id": "6d41eec1ba9746ed88bbf9529896b497",
       "version_major": 2,
       "version_minor": 0
      },
      "text/plain": [
       "  0%|          | 0/146 [00:00<?, ?it/s]"
      ]
     },
     "metadata": {},
     "output_type": "display_data"
    },
    {
     "name": "stdout",
     "output_type": "stream",
     "text": [
      "Epoch #7 completed with Accuracy 90.06%\n"
     ]
    },
    {
     "data": {
      "application/vnd.jupyter.widget-view+json": {
       "model_id": "7c63901553be4b96806b5622b961a467",
       "version_major": 2,
       "version_minor": 0
      },
      "text/plain": [
       "  0%|          | 0/146 [00:00<?, ?it/s]"
      ]
     },
     "metadata": {},
     "output_type": "display_data"
    },
    {
     "name": "stdout",
     "output_type": "stream",
     "text": [
      "Epoch #8 completed with Accuracy 90.56%\n"
     ]
    },
    {
     "data": {
      "application/vnd.jupyter.widget-view+json": {
       "model_id": "2d3a4d35f9304142b1791c7c166a3ff5",
       "version_major": 2,
       "version_minor": 0
      },
      "text/plain": [
       "  0%|          | 0/146 [00:00<?, ?it/s]"
      ]
     },
     "metadata": {},
     "output_type": "display_data"
    },
    {
     "name": "stdout",
     "output_type": "stream",
     "text": [
      "Epoch #9 completed with Accuracy 89.83%\n"
     ]
    },
    {
     "data": {
      "application/vnd.jupyter.widget-view+json": {
       "model_id": "9f51ed4454a7413db1225d9da218b468",
       "version_major": 2,
       "version_minor": 0
      },
      "text/plain": [
       "  0%|          | 0/146 [00:00<?, ?it/s]"
      ]
     },
     "metadata": {},
     "output_type": "display_data"
    },
    {
     "name": "stdout",
     "output_type": "stream",
     "text": [
      "Epoch #10 completed with Accuracy 90.13%\n"
     ]
    },
    {
     "data": {
      "application/vnd.jupyter.widget-view+json": {
       "model_id": "2994820c09c945b4b33bfba751b24116",
       "version_major": 2,
       "version_minor": 0
      },
      "text/plain": [
       "  0%|          | 0/146 [00:00<?, ?it/s]"
      ]
     },
     "metadata": {},
     "output_type": "display_data"
    },
    {
     "name": "stdout",
     "output_type": "stream",
     "text": [
      "Epoch #11 completed with Accuracy 90.41%\n"
     ]
    },
    {
     "data": {
      "application/vnd.jupyter.widget-view+json": {
       "model_id": "6249471a67074cadaecdbc38d55691e0",
       "version_major": 2,
       "version_minor": 0
      },
      "text/plain": [
       "  0%|          | 0/146 [00:00<?, ?it/s]"
      ]
     },
     "metadata": {},
     "output_type": "display_data"
    },
    {
     "name": "stdout",
     "output_type": "stream",
     "text": [
      "Epoch #12 completed with Accuracy 89.95%\n"
     ]
    },
    {
     "data": {
      "application/vnd.jupyter.widget-view+json": {
       "model_id": "560fdde326b14f79b4f358b794e3f047",
       "version_major": 2,
       "version_minor": 0
      },
      "text/plain": [
       "  0%|          | 0/146 [00:00<?, ?it/s]"
      ]
     },
     "metadata": {},
     "output_type": "display_data"
    },
    {
     "name": "stdout",
     "output_type": "stream",
     "text": [
      "Epoch #13 completed with Accuracy 90.06%\n"
     ]
    },
    {
     "data": {
      "application/vnd.jupyter.widget-view+json": {
       "model_id": "07b21797e73d4ed1881ba6fda96d2c6a",
       "version_major": 2,
       "version_minor": 0
      },
      "text/plain": [
       "  0%|          | 0/146 [00:00<?, ?it/s]"
      ]
     },
     "metadata": {},
     "output_type": "display_data"
    },
    {
     "name": "stdout",
     "output_type": "stream",
     "text": [
      "Epoch #14 completed with Accuracy 89.50%\n"
     ]
    },
    {
     "data": {
      "application/vnd.jupyter.widget-view+json": {
       "model_id": "c739e3f223ae4851a49e5cde83882cf6",
       "version_major": 2,
       "version_minor": 0
      },
      "text/plain": [
       "  0%|          | 0/146 [00:00<?, ?it/s]"
      ]
     },
     "metadata": {},
     "output_type": "display_data"
    },
    {
     "name": "stdout",
     "output_type": "stream",
     "text": [
      "Epoch #15 completed with Accuracy 89.50%\n"
     ]
    },
    {
     "data": {
      "application/vnd.jupyter.widget-view+json": {
       "model_id": "3b9725bb2d514b00ae3b53c3ddcaf5e3",
       "version_major": 2,
       "version_minor": 0
      },
      "text/plain": [
       "  0%|          | 0/146 [00:00<?, ?it/s]"
      ]
     },
     "metadata": {},
     "output_type": "display_data"
    },
    {
     "name": "stdout",
     "output_type": "stream",
     "text": [
      "Epoch #16 completed with Accuracy 90.15%\n"
     ]
    },
    {
     "data": {
      "application/vnd.jupyter.widget-view+json": {
       "model_id": "79f564c7d8ea42648f6abc5d5f961ada",
       "version_major": 2,
       "version_minor": 0
      },
      "text/plain": [
       "  0%|          | 0/146 [00:00<?, ?it/s]"
      ]
     },
     "metadata": {},
     "output_type": "display_data"
    },
    {
     "name": "stdout",
     "output_type": "stream",
     "text": [
      "Epoch #17 completed with Accuracy 90.04%\n"
     ]
    },
    {
     "data": {
      "application/vnd.jupyter.widget-view+json": {
       "model_id": "68358092b28f4779a8963ca6944ceda2",
       "version_major": 2,
       "version_minor": 0
      },
      "text/plain": [
       "  0%|          | 0/146 [00:00<?, ?it/s]"
      ]
     },
     "metadata": {},
     "output_type": "display_data"
    },
    {
     "name": "stdout",
     "output_type": "stream",
     "text": [
      "Epoch #18 completed with Accuracy 89.89%\n"
     ]
    },
    {
     "data": {
      "application/vnd.jupyter.widget-view+json": {
       "model_id": "fee5c53739b54a7b926d7ced0efc78a4",
       "version_major": 2,
       "version_minor": 0
      },
      "text/plain": [
       "  0%|          | 0/146 [00:00<?, ?it/s]"
      ]
     },
     "metadata": {},
     "output_type": "display_data"
    },
    {
     "name": "stdout",
     "output_type": "stream",
     "text": [
      "Epoch #19 completed with Accuracy 90.62%\n"
     ]
    },
    {
     "data": {
      "application/vnd.jupyter.widget-view+json": {
       "model_id": "89255ef808bc43988cf3b797a1221235",
       "version_major": 2,
       "version_minor": 0
      },
      "text/plain": [
       "  0%|          | 0/146 [00:00<?, ?it/s]"
      ]
     },
     "metadata": {},
     "output_type": "display_data"
    },
    {
     "name": "stdout",
     "output_type": "stream",
     "text": [
      "Epoch #20 completed with Accuracy 90.73%\n"
     ]
    },
    {
     "data": {
      "application/vnd.jupyter.widget-view+json": {
       "model_id": "b86d9ef940234ac591dc5909c355a6e6",
       "version_major": 2,
       "version_minor": 0
      },
      "text/plain": [
       "  0%|          | 0/146 [00:00<?, ?it/s]"
      ]
     },
     "metadata": {},
     "output_type": "display_data"
    },
    {
     "name": "stdout",
     "output_type": "stream",
     "text": [
      "Epoch #21 completed with Accuracy 90.34%\n"
     ]
    },
    {
     "data": {
      "application/vnd.jupyter.widget-view+json": {
       "model_id": "742724ebc8e44dee8e21f537c4580fa2",
       "version_major": 2,
       "version_minor": 0
      },
      "text/plain": [
       "  0%|          | 0/146 [00:00<?, ?it/s]"
      ]
     },
     "metadata": {},
     "output_type": "display_data"
    },
    {
     "name": "stdout",
     "output_type": "stream",
     "text": [
      "Epoch #22 completed with Accuracy 90.86%\n"
     ]
    },
    {
     "data": {
      "application/vnd.jupyter.widget-view+json": {
       "model_id": "af8418f3a35146ab91a6251b8cd8aded",
       "version_major": 2,
       "version_minor": 0
      },
      "text/plain": [
       "  0%|          | 0/146 [00:00<?, ?it/s]"
      ]
     },
     "metadata": {},
     "output_type": "display_data"
    },
    {
     "name": "stdout",
     "output_type": "stream",
     "text": [
      "Epoch #23 completed with Accuracy 90.47%\n"
     ]
    },
    {
     "data": {
      "application/vnd.jupyter.widget-view+json": {
       "model_id": "0ca0f831c3bc45229a209465c62cab1d",
       "version_major": 2,
       "version_minor": 0
      },
      "text/plain": [
       "  0%|          | 0/146 [00:00<?, ?it/s]"
      ]
     },
     "metadata": {},
     "output_type": "display_data"
    },
    {
     "name": "stdout",
     "output_type": "stream",
     "text": [
      "Epoch #24 completed with Accuracy 90.94%\n"
     ]
    },
    {
     "data": {
      "application/vnd.jupyter.widget-view+json": {
       "model_id": "96b3bb4afbff4c2f8f589ee914714f60",
       "version_major": 2,
       "version_minor": 0
      },
      "text/plain": [
       "  0%|          | 0/146 [00:00<?, ?it/s]"
      ]
     },
     "metadata": {},
     "output_type": "display_data"
    },
    {
     "name": "stdout",
     "output_type": "stream",
     "text": [
      "Epoch #25 completed with Accuracy 89.93%\n"
     ]
    },
    {
     "data": {
      "application/vnd.jupyter.widget-view+json": {
       "model_id": "3a66a2b95e174b0e8d704a418ae67f05",
       "version_major": 2,
       "version_minor": 0
      },
      "text/plain": [
       "  0%|          | 0/146 [00:00<?, ?it/s]"
      ]
     },
     "metadata": {},
     "output_type": "display_data"
    },
    {
     "name": "stdout",
     "output_type": "stream",
     "text": [
      "Epoch #26 completed with Accuracy 90.15%\n"
     ]
    },
    {
     "data": {
      "application/vnd.jupyter.widget-view+json": {
       "model_id": "831a4c7c2dfb41c9973e16b55b47514b",
       "version_major": 2,
       "version_minor": 0
      },
      "text/plain": [
       "  0%|          | 0/146 [00:00<?, ?it/s]"
      ]
     },
     "metadata": {},
     "output_type": "display_data"
    },
    {
     "name": "stdout",
     "output_type": "stream",
     "text": [
      "Epoch #27 completed with Accuracy 90.73%\n"
     ]
    },
    {
     "data": {
      "application/vnd.jupyter.widget-view+json": {
       "model_id": "4e033380b83a472fb333b8d1f0ee0156",
       "version_major": 2,
       "version_minor": 0
      },
      "text/plain": [
       "  0%|          | 0/146 [00:00<?, ?it/s]"
      ]
     },
     "metadata": {},
     "output_type": "display_data"
    },
    {
     "name": "stdout",
     "output_type": "stream",
     "text": [
      "Epoch #28 completed with Accuracy 90.92%\n"
     ]
    },
    {
     "data": {
      "application/vnd.jupyter.widget-view+json": {
       "model_id": "8b5c817a4802421e9d9cdd6c050ce292",
       "version_major": 2,
       "version_minor": 0
      },
      "text/plain": [
       "  0%|          | 0/146 [00:00<?, ?it/s]"
      ]
     },
     "metadata": {},
     "output_type": "display_data"
    },
    {
     "name": "stdout",
     "output_type": "stream",
     "text": [
      "Epoch #29 completed with Accuracy 90.64%\n"
     ]
    },
    {
     "data": {
      "application/vnd.jupyter.widget-view+json": {
       "model_id": "84d566d2ba854c68898953471390e99c",
       "version_major": 2,
       "version_minor": 0
      },
      "text/plain": [
       "  0%|          | 0/146 [00:00<?, ?it/s]"
      ]
     },
     "metadata": {},
     "output_type": "display_data"
    },
    {
     "name": "stdout",
     "output_type": "stream",
     "text": [
      "Epoch #30 completed with Accuracy 90.88%\n",
      "\n",
      "Training Completed!\n"
     ]
    }
   ],
   "source": [
    "# Training Data\r\n",
    "from tqdm.notebook import tqdm\r\n",
    "\r\n",
    "model.train()\r\n",
    "model.to(device=device)\r\n",
    "for epoch in range(epochs):\r\n",
    "    num_samples = 0\r\n",
    "    num_correct = 0\r\n",
    "    running_loss = 0.0\r\n",
    "    tk0 = tqdm(train_loader, total=int(len(train_loader)))\r\n",
    "    for batch_idx, sample in enumerate(tk0):\r\n",
    "        data = sample['image'].to(device=device)\r\n",
    "        targets = sample['label'].to(device=device)\r\n",
    "        \r\n",
    "        pred_output = model(data)\r\n",
    "        _, prediction = pred_output.max(1)\r\n",
    "        num_samples += pred_output.size(0)\r\n",
    "        num_correct += (prediction==targets).sum()\r\n",
    "        \r\n",
    "        loss = loss_function(pred_output, targets)\r\n",
    "        running_loss += loss\r\n",
    "\r\n",
    "        optimizer.zero_grad()\r\n",
    "        loss.backward()\r\n",
    "        optimizer.step()\r\n",
    "        \r\n",
    "        tk0.set_postfix(loss=(running_loss / (batch_idx * train_loader.batch_size)).item())\r\n",
    "    print(f'Epoch #{epoch+1} completed with Accuracy {(num_correct / num_samples * 100.00):.2f}%')\r\n",
    "    model.eval()\r\n",
    "    if (epoch%5==0):\r\n",
    "        model_name = 'mask_detection_model_epoch' + str(epoch) + '.pth'\r\n",
    "        torch.save(model.state_dict(), 'Trained Models/'+model_name)\r\n",
    "    model.train()\r\n",
    "    \r\n",
    "print()\r\n",
    "print(\"Training Completed!\")\r\n"
   ]
  },
  {
   "cell_type": "code",
   "execution_count": 16,
   "metadata": {},
   "outputs": [],
   "source": [
    "# Model Testing\r\n",
    "def check_accuracy(loader, model):\r\n",
    "    model.eval() # Set model into evaluation mode!\r\n",
    "    num_samples = 0\r\n",
    "    num_correct = 0\r\n",
    "    for batch_idx, sample in enumerate(loader):\r\n",
    "        data = sample['image'].to(device=device)\r\n",
    "        targets = sample['label'].to(device=device)\r\n",
    "        \r\n",
    "        pred_output = model(data)\r\n",
    "        _, prediction = pred_output.max(1)\r\n",
    "        num_samples += pred_output.size(0)\r\n",
    "        num_correct += (prediction==targets).sum()\r\n",
    "    \r\n",
    "    print(f'Correctly identified samples: {num_correct}')\r\n",
    "    print(f'Total samples: {num_samples}')\r\n",
    "    print(f'The Validation Accuracy is {num_correct / num_samples * 100.00:.2f}')\r\n",
    "    model.train() # Setting model back to training data"
   ]
  },
  {
   "cell_type": "code",
   "execution_count": 17,
   "metadata": {},
   "outputs": [
    {
     "name": "stdout",
     "output_type": "stream",
     "text": [
      "Checking Accuracy on Training Data...\n",
      "Correctly identified samples: 4311\n",
      "Total samples: 4649\n",
      "The Validation Accuracy is 92.73\n",
      "\n",
      "Checking Accuracy on Testing Data...\n",
      "Correctly identified samples: 1077\n",
      "Total samples: 1163\n",
      "The Validation Accuracy is 92.61\n"
     ]
    }
   ],
   "source": [
    "print(\"Checking Accuracy on Training Data...\")\r\n",
    "check_accuracy(train_loader, model)\r\n",
    "print()\r\n",
    "print(\"Checking Accuracy on Testing Data...\")\r\n",
    "check_accuracy(test_loader, model)"
   ]
  },
  {
   "cell_type": "code",
   "execution_count": 18,
   "metadata": {},
   "outputs": [],
   "source": [
    "# Saving model with trained weights\r\n",
    "torch.save(model.state_dict(), 'Trained Models/mask_detection_model.pth')"
   ]
  },
  {
   "cell_type": "code",
   "execution_count": 19,
   "metadata": {},
   "outputs": [
    {
     "name": "stdout",
     "output_type": "stream",
     "text": [
      "\n"
     ]
    }
   ],
   "source": [
    "trained_model = torchvision.models.mobilenet_v2(pretrained=True)\r\n",
    "trained_model.classifier[1] = nn.Sequential(\r\n",
    "    nn.Linear(1280, 256),\r\n",
    "    nn.ReLU(inplace=True),\r\n",
    "    nn.Linear(256, 128),\r\n",
    "    nn.ReLU(inplace=True),\r\n",
    "    nn.Dropout(0.4),\r\n",
    "    nn.Linear(128, 64),\r\n",
    "    nn.ReLU(inplace=True),\r\n",
    "    nn.Linear(64, 32),\r\n",
    "    nn.ReLU(inplace=True),\r\n",
    "    nn.Dropout(0.4),\r\n",
    "    nn.Linear(32, 2),\r\n",
    ")\r\n",
    "\r\n",
    "trained_model.load_state_dict(torch.load('Trained Models/mask_detection_model.pth'))\r\n",
    "trained_model.eval()\r\n",
    "print()"
   ]
  },
  {
   "cell_type": "code",
   "execution_count": 20,
   "metadata": {},
   "outputs": [],
   "source": [
    "test_transform_compose = transforms.Compose([\r\n",
    "    transforms.Resize((320,320)),\r\n",
    "    transforms.ToTensor(),\r\n",
    "    transforms.Normalize([0.485, 0.456, 0.406], [0.229, 0.224, 0.225])\r\n",
    "])"
   ]
  },
  {
   "cell_type": "code",
   "execution_count": 21,
   "metadata": {},
   "outputs": [],
   "source": [
    "def prepare_image_for_testing(img):\r\n",
    "    img = Image.fromarray(img)\r\n",
    "    img = test_transform_compose(img)\r\n",
    "    img = img.unsqueeze_(0)\r\n",
    "    return img"
   ]
  },
  {
   "cell_type": "code",
   "execution_count": 22,
   "metadata": {},
   "outputs": [
    {
     "name": "stdout",
     "output_type": "stream",
     "text": [
      "Label: 0\n",
      "Prediction: 0\n"
     ]
    }
   ],
   "source": [
    "without_mask_image = io.imread(os.path.join('examples', 'without_mask.jpg'))\r\n",
    "without_mask_image = prepare_image_for_testing(without_mask_image)\r\n",
    "without_mask_image = without_mask_image.to(device=device)\r\n",
    "trained_model.to(device=device)\r\n",
    "pred_output = trained_model(without_mask_image)\r\n",
    "_, prediction = pred_output.max(1)\r\n",
    "print(\"Label: 0\")\r\n",
    "if (prediction[0]==0):\r\n",
    "    print(\"Prediction: 0\")\r\n",
    "else:\r\n",
    "    print(\"Prediction: 1\")"
   ]
  },
  {
   "cell_type": "code",
   "execution_count": 23,
   "metadata": {},
   "outputs": [
    {
     "name": "stdout",
     "output_type": "stream",
     "text": [
      "Label: 1\n",
      "Prediction: 1\n"
     ]
    }
   ],
   "source": [
    "with_mask_image = io.imread(os.path.join('examples', 'with_mask.jpg'))\r\n",
    "with_mask_image = prepare_image_for_testing(with_mask_image)\r\n",
    "with_mask_image = with_mask_image.to(device=device)\r\n",
    "trained_model.to(device=device)\r\n",
    "pred_output = trained_model(with_mask_image)\r\n",
    "_, prediction = pred_output.max(1)\r\n",
    "print(\"Label: 1\")\r\n",
    "if (prediction[0]==0):\r\n",
    "    print(\"Prediction: 0\")\r\n",
    "else:\r\n",
    "    print(\"Prediction: 1\")"
   ]
  }
 ],
 "metadata": {
  "interpreter": {
   "hash": "a1fe01d80329757d9b5c06f57374f0a110ed74617d918d36a87f0af07624d70d"
  },
  "kernelspec": {
   "display_name": "Python 3.8.5 64-bit ('base': conda)",
   "name": "python3"
  },
  "language_info": {
   "name": "python",
   "version": ""
  },
  "orig_nbformat": 4
 },
 "nbformat": 4,
 "nbformat_minor": 2
}